{
 "cells": [
  {
   "cell_type": "code",
   "execution_count": null,
   "id": "493149a4",
   "metadata": {},
   "outputs": [
    {
     "name": "stdout",
     "output_type": "stream",
     "text": [
      "rmvr s vgs\n"
     ]
    }
   ],
   "source": [
    "texto = \"remover as vogais\"\n",
    "#resultado esperado: \"rmvr s vgs\"\n",
    "texto = texto.replace(\"a\", \"\") #função replace substitui a primeira ocorrencia de \"a\" por \"\"\n",
    "texto = texto.replace(\"e\", \"\")\n",
    "texto = texto.replace(\"i\", \"\")\n",
    "texto = texto.replace(\"o\", \"\")\n",
    "texto = texto.replace(\"u\", \"\")\n",
    "print(texto)"
   ]
  },
  {
   "cell_type": "code",
   "execution_count": null,
   "id": "7341e3be",
   "metadata": {},
   "outputs": [
    {
     "name": "stdout",
     "output_type": "stream",
     "text": [
      "CPF válido 056.359.483-63\n"
     ]
    }
   ],
   "source": [
    "\n",
    "cpf = input(\"Digite seu CPF\")#\"000.000.000-00\"\n",
    "# Expressão regular: (^ inicio) (\\d 3 dígitos), (\\. ponto), (\\d 3 dígitos), ponto, 3 dígitos, hífen, 2 dígitos, ($ fim)\n",
    "padrao = r'^\\d{3}\\.\\d{3}\\.\\d{3}-\\d{2}$'\n",
    "\n",
    "if re.match(padrao,cpf): #\n",
    "    print(\"CPF válido\",cpf)\n",
    "else:\n",
    "    print(\"CPF inválido\",cpf)"
   ]
  },
  {
   "cell_type": "code",
   "execution_count": 18,
   "id": "c50bd6d6",
   "metadata": {},
   "outputs": [
    {
     "name": "stdout",
     "output_type": "stream",
     "text": [
      "#HojeÉUmÓtimoDiaParaEstudarpython\n"
     ]
    }
   ],
   "source": [
    "frase = \"Hoje É Um Ótimo Dia Para Estudar python\"\n",
    "palavra = frase.split() #Quebra a frase em palavras\n",
    "hashtag = \"#\" + \"\".join(palavra) #Junta tudo em uma string só\n",
    "\n",
    "print(hashtag)\n",
    "\n"
   ]
  }
 ],
 "metadata": {
  "kernelspec": {
   "display_name": "base",
   "language": "python",
   "name": "python3"
  },
  "language_info": {
   "codemirror_mode": {
    "name": "ipython",
    "version": 3
   },
   "file_extension": ".py",
   "mimetype": "text/x-python",
   "name": "python",
   "nbconvert_exporter": "python",
   "pygments_lexer": "ipython3",
   "version": "3.12.7"
  }
 },
 "nbformat": 4,
 "nbformat_minor": 5
}
