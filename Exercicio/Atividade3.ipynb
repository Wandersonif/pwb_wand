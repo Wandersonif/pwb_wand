{
 "cells": [
  {
   "cell_type": "code",
   "execution_count": 5,
   "id": "cc1bf2d8",
   "metadata": {},
   "outputs": [],
   "source": [
    "# ==========================================================\n",
    "# EXERCÍCIO : Cadastro de Alunos\n",
    "# ==========================================================\n",
    "nomes = [] # lista vazia para armazenar os nomes dos alunos\n",
    "dados = {} # dicionário vazio para armazenar os dados dos alunos\n",
    "\n",
    "while True:\n",
    "\n",
    "    nome = input(\"Nome do Aluno:\")\n",
    "    if nome == '0':\n",
    "        break\n",
    "\n",
    "    idade = int(input(\"Idade do Aluno:\"))\n",
    "    nota = float(input(\"Nota Final:\"))\n",
    "\n",
    "    nomes.append(nome) #armazer os nome na lista\n",
    "\n",
    "    tuplas = (idade,nota) # cria a tupla com idade e nota\n",
    "\n",
    "    dados [nome] = tuplas # armazenar os dados no dicionário\n",
    "  \n",
    "    print(\"Lista de Nomes dos alunos: \\n\", nomes)\n",
    "\n",
    "    print(\"Dicionário de alunos :\\n \", dados)\n",
    "\n",
    "    \n",
    "\n",
    "\n"
   ]
  }
 ],
 "metadata": {
  "kernelspec": {
   "display_name": "base",
   "language": "python",
   "name": "python3"
  },
  "language_info": {
   "codemirror_mode": {
    "name": "ipython",
    "version": 3
   },
   "file_extension": ".py",
   "mimetype": "text/x-python",
   "name": "python",
   "nbconvert_exporter": "python",
   "pygments_lexer": "ipython3",
   "version": "3.12.7"
  }
 },
 "nbformat": 4,
 "nbformat_minor": 5
}
