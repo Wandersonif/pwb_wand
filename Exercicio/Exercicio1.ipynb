{
 "cells": [
  {
   "cell_type": "code",
   "execution_count": 4,
   "metadata": {},
   "outputs": [
    {
     "name": "stdout",
     "output_type": "stream",
     "text": [
      "Seja bem-vindo wanderson  Sua idade é: 32 Você nasceu no ano: 1992  Tem 1.8 de altura\n",
      "Seja bem-vindo: wanderson Sua idade é: 32 Você nasceu no ano: 1992 Tem 1.8 de altura\n",
      "Seja bem-vindo wanderson Sua idade é: 32 Você nasceu no ano: 1992 e possui 1.8 de altura\n",
      "Nome: wanderson idade: 32 nascida (o): 1992 tem uma altura 1.8\n"
     ]
    }
   ],
   "source": [
    "#Cadastro de usuário\n",
    "from numpy import double\n",
    "\n",
    "nome = (input(\"Digite seu nome\"))\n",
    "idade = int(input(\"Digite sua idade\"))\n",
    "alt = double(input(\"Digite sua altura\"))\n",
    "\n",
    "anoNasc = (2025-1) - idade\n",
    "print(\"Seja bem-vindo\", nome,\" Sua idade é:\", idade, \"Você nasceu no ano:\",anoNasc,\" Tem\", alt,\"de altura\")\n",
    "print(\"Seja bem-vindo: \"+ nome+\" Sua idade é: \"+ str(idade)+ \" Você nasceu no ano: \"+str(anoNasc)+\" Tem \"+ str(alt)+\" de altura\")\n",
    "print(\"Seja bem-vindo {} Sua idade é: {} Você nasceu no ano: {} e possui {:.1f} de altura\".format(nome, idade,anoNasc,alt))\n",
    "print(f\"Nome: {nome} idade: {idade} nascida (o): {anoNasc} tem uma altura {alt}\")"
   ]
  },
  {
   "cell_type": "code",
   "execution_count": 6,
   "metadata": {},
   "outputs": [
    {
     "name": "stdout",
     "output_type": "stream",
     "text": [
      "Soma:          resultado 11.0\n",
      "Subtração:     resultado -1.0\n",
      "Multiplicação::resultado 30.0\n",
      "Divisão:       resultado 0.8333333333333334\n",
      "Exponenciação: resultado 15625.0\n",
      "Resto da divisão:resultado 5.0\n"
     ]
    }
   ],
   "source": [
    "num1 = float(input(\"Digite o primeiro número\"))\n",
    "num2 = float(input(\"Digite o segundo número\"))\n",
    "\n",
    "soma = num1 + num2\n",
    "subtracao = num1 - num2\n",
    "multiplicacao = num1 * num2\n",
    "divisao = num1 / num2\n",
    "exponenciacao = num1 ** num2\n",
    "resto = num1 % num2\n",
    "\n",
    "print(f\"{'Soma:':<15}{'resultado':<10}{soma}\")\n",
    "print(f\"{'Subtração:':<15}{'resultado':<10}{subtracao}\")\n",
    "print(f\"{'Multiplicação::':<15}{'resultado':<10}{multiplicacao}\")\n",
    "print(f\"{'Divisão:':<15}{'resultado':<10}{divisao}\")\n",
    "print(f\"{'Exponenciação:':<15}{'resultado':<10}{exponenciacao}\")\n",
    "print(f\"{'Resto da divisão:':<15}{'resultado':<10}{resto}\")\n"
   ]
  },
  {
   "cell_type": "code",
   "execution_count": 3,
   "metadata": {},
   "outputs": [
    {
     "name": "stdout",
     "output_type": "stream",
     "text": [
      "Olá wanderso, você já Adulto de 32 anos!\n"
     ]
    }
   ],
   "source": [
    "nome = (input(\"Digite seu nome\"))\n",
    "idade = int(input(\"Digite sua idade\"))\n",
    "\n",
    "if idade < 12:\n",
    "    print(f\"Olá {nome}, você é uma criança de {idade} anos!\")\n",
    "elif idade < 18:\n",
    "    print(f\"Olá {nome}, você é um (a) adolescente de {idade} anos!\")\n",
    "elif idade < 60:\n",
    "    print(f\"Olá {nome}, você já Adulto de {idade} anos!\")\n",
    "else:\n",
    "    print(f\"Olá {nome}, você já é Idoso de {idade} anos!\")\n",
    "    "
   ]
  },
  {
   "cell_type": "code",
   "execution_count": 6,
   "metadata": {},
   "outputs": [
    {
     "name": "stdout",
     "output_type": "stream",
     "text": [
      "Essa é a tabuada de 2:\n",
      "2 x 1 = 2\n",
      "2 x 2 = 4\n",
      "2 x 3 = 6\n",
      "2 x 4 = 8\n",
      "2 x 5 = 10\n",
      "2 x 6 = 12\n",
      "2 x 7 = 14\n",
      "2 x 8 = 16\n",
      "2 x 9 = 18\n",
      "2 x 10 = 20\n"
     ]
    }
   ],
   "source": [
    "num = int(input(\"Digite um número: \"))\n",
    "\n",
    "print(\"Essa é a tabuada de {}:\".format(num))\n",
    "for i in range(1, 11):\n",
    "    print(f\"{num} x {i} = {num * i}\")\n"
   ]
  }
 ],
 "metadata": {
  "kernelspec": {
   "display_name": "base",
   "language": "python",
   "name": "python3"
  },
  "language_info": {
   "codemirror_mode": {
    "name": "ipython",
    "version": 3
   },
   "file_extension": ".py",
   "mimetype": "text/x-python",
   "name": "python",
   "nbconvert_exporter": "python",
   "pygments_lexer": "ipython3",
   "version": "3.12.7"
  }
 },
 "nbformat": 4,
 "nbformat_minor": 2
}
