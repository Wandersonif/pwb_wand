{
 "cells": [
  {
   "cell_type": "code",
   "execution_count": null,
   "metadata": {},
   "outputs": [
    {
     "name": "stdout",
     "output_type": "stream",
     "text": [
      "My name is: wanderson das \n",
      "My name is: wanderson das \n",
      "My name is: wanderson das \n",
      "My name is: wanderson das \n"
     ]
    }
   ],
   "source": [
    "nome = (input(\"Digite seu Nome: \"))\n",
    "exibXvezes = int(input(\"Quantas vezes você quer exibir seu nome: \"))\n",
    "\n",
    "for i in range (1,exibXvezes):\n",
    "\n",
    "    print(f\"My name is: {nome}\")    \n"
   ]
  },
  {
   "cell_type": "code",
   "execution_count": 4,
   "metadata": {},
   "outputs": [
    {
     "name": "stdout",
     "output_type": "stream",
     "text": [
      " Maior de Idade: 18\n"
     ]
    }
   ],
   "source": [
    "idade = int(input(\"digite sua idade: \"))\n",
    "\n",
    "if idade >= 18:\n",
    "\n",
    "    print(f\" Maior de Idade: {idade}\")  \n",
    "else :\n",
    "    print(f\"Menor de Idade: {idade}\")"
   ]
  },
  {
   "cell_type": "code",
   "execution_count": 8,
   "metadata": {},
   "outputs": [
    {
     "name": "stdout",
     "output_type": "stream",
     "text": [
      "Soma: [11] Subtração: [1] multiplicação: [30] Divisão: [1.2]\n"
     ]
    }
   ],
   "source": [
    "n1 = int(input(\"digite primeiro número: \"))\n",
    "n2 = int(input(\"digite segundo número: \"))\n",
    "\n",
    "soma = n1+n2\n",
    "subtracao = n1-n2\n",
    "multiplicacao = n1*n2\n",
    "divisao = n1/n2\n",
    "\n",
    "print(f\"Soma: [{soma}] Subtração: [{subtracao}] multiplicação: [{multiplicacao}] Divisão: [{divisao}]\")"
   ]
  }
 ],
 "metadata": {
  "kernelspec": {
   "display_name": "base",
   "language": "python",
   "name": "python3"
  },
  "language_info": {
   "codemirror_mode": {
    "name": "ipython",
    "version": 3
   },
   "file_extension": ".py",
   "mimetype": "text/x-python",
   "name": "python",
   "nbconvert_exporter": "python",
   "pygments_lexer": "ipython3",
   "version": "3.12.7"
  }
 },
 "nbformat": 4,
 "nbformat_minor": 2
}
