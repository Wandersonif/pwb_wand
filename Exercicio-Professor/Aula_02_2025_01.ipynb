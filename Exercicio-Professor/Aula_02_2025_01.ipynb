{
  "nbformat": 4,
  "nbformat_minor": 0,
  "metadata": {
    "colab": {
      "provenance": []
    },
    "kernelspec": {
      "name": "python3",
      "display_name": "Python 3"
    },
    "language_info": {
      "name": "python"
    }
  },
  "cells": [
    {
      "cell_type": "code",
      "execution_count": 7,
      "metadata": {
        "colab": {
          "base_uri": "https://localhost:8080/"
        },
        "id": "rVwFwFwbnrWA",
        "outputId": "c3f79567-18dc-46ff-fb72-c149f1f1a44c"
      },
      "outputs": [
        {
          "name": "stdout",
          "output_type": "stream",
          "text": [
            "Digite seu nome: jonas\n",
            "Digite sua idade: 40\n",
            "Digite sua altura em metros: 1.73\n"
          ]
        }
      ],
      "source": [
        "# Entrada de dados\n",
        "nome = input(\"Digite seu nome: \")\n",
        "idade = int(input(\"Digite sua idade: \"))\n",
        "altura = float(input(\"Digite sua altura em metros: \"))"
      ]
    },
    {
      "cell_type": "code",
      "source": [
        "# Processamento\n",
        "ano_atual = 2025\n",
        "ano_nascimento = ano_atual - idade"
      ],
      "metadata": {
        "id": "qCKtTb_9n1nw"
      },
      "execution_count": 8,
      "outputs": []
    },
    {
      "cell_type": "code",
      "source": [
        "# 1. print() com vírgulas (automático com espaços)\n",
        "print(\"Nome:\", nome, \"| Idade:\", idade, \"| Altura:\", altura)"
      ],
      "metadata": {
        "colab": {
          "base_uri": "https://localhost:8080/"
        },
        "id": "FDyDW0Q8n4kY",
        "outputId": "301f5073-c70e-49dd-bd78-a2e0a1144d44"
      },
      "execution_count": 10,
      "outputs": [
        {
          "output_type": "stream",
          "name": "stdout",
          "text": [
            "Nome: jonas | Idade: <class 'int'> | Altura: 1.73\n"
          ]
        }
      ]
    },
    {
      "cell_type": "code",
      "source": [
        "# 2. print() com concatenação (+) — precisa converter tipos para string\n",
        "print(\"Você se chama\" + nome + \" e tem \" + str(idade) + \" anos.\")"
      ],
      "metadata": {
        "colab": {
          "base_uri": "https://localhost:8080/"
        },
        "id": "V-pA0QBOn9C5",
        "outputId": "a432fa67-c84b-4bdc-a424-ca3c882d9d47"
      },
      "execution_count": 15,
      "outputs": [
        {
          "output_type": "stream",
          "name": "stdout",
          "text": [
            "Você se chama jonas e tem 40 anos.\n"
          ]
        }
      ]
    },
    {
      "cell_type": "code",
      "source": [
        "# 3. print() com método .format()\n",
        "print(\"Altura: {:.1f} metros. Você nasceu em {}.\".format(altura, ano_nascimento))"
      ],
      "metadata": {
        "colab": {
          "base_uri": "https://localhost:8080/"
        },
        "id": "r_6LiQ0_n_Ga",
        "outputId": "d169588f-3012-4de1-b168-7714228c7908"
      },
      "execution_count": 18,
      "outputs": [
        {
          "output_type": "stream",
          "name": "stdout",
          "text": [
            "Altura: 1.7 metros. Você nasceu em 1985.\n"
          ]
        }
      ]
    },
    {
      "cell_type": "code",
      "source": [
        "# 4. f-string (forma mais moderna e legível)\n",
        "print(f\"{nome} tem {idade} anos, mede {altura:.4f} m e nasceu em {ano_nascimento}.\")"
      ],
      "metadata": {
        "colab": {
          "base_uri": "https://localhost:8080/"
        },
        "id": "TtFg-jNZoCCz",
        "outputId": "7d1b3bf3-5343-4a32-f135-784c697ca1d8"
      },
      "execution_count": 21,
      "outputs": [
        {
          "output_type": "stream",
          "name": "stdout",
          "text": [
            "jonas tem 40 anos, mede 1.7300 m e nasceu em 1985.\n"
          ]
        }
      ]
    },
    {
      "cell_type": "code",
      "source": [
        "# 5. f-string com alinhamento de texto\n",
        "print(f\"{'Nome:':<12}{nome}\")\n",
        "print(f\"{'Idade:':<12}{idade}\")\n",
        "print(f\"{'Altura:':<12}{altura:.2f}\")\n",
        "print(f\"{'Nascimento:':<12}{ano_nascimento}\")"
      ],
      "metadata": {
        "colab": {
          "base_uri": "https://localhost:8080/"
        },
        "id": "YKZUHiLKoDqx",
        "outputId": "f126667d-f182-403a-a535-1177233ec04a"
      },
      "execution_count": 23,
      "outputs": [
        {
          "output_type": "stream",
          "name": "stdout",
          "text": [
            "Nome:       jonas\n",
            "Idade:      40\n",
            "Altura:     1.73\n",
            "Nascimento: 1985\n"
          ]
        }
      ]
    },
    {
      "cell_type": "code",
      "source": [
        "# Entrada de dados\n",
        "num1 = float(input(\"Digite o primeiro número: \"))\n",
        "num2 = float(input(\"Digite o segundo número: \"))"
      ],
      "metadata": {
        "colab": {
          "base_uri": "https://localhost:8080/"
        },
        "id": "HSdFEpxLob1L",
        "outputId": "16b5b363-554f-4a45-df21-21f25c5de582"
      },
      "execution_count": 30,
      "outputs": [
        {
          "name": "stdout",
          "output_type": "stream",
          "text": [
            "Digite o primeiro número: 1.2\n",
            "Digite o segundo número: 1.5\n"
          ]
        }
      ]
    },
    {
      "cell_type": "code",
      "source": [
        "# prompt: 7.56\n",
        "\n",
        "# Cálculo da média\n",
        "media = (num1 + num2) / 2\n",
        "\n",
        "# Saída formatada\n",
        "print(f\"A média entre {num1} e {num2} é igual a {media:.2f}\")\n"
      ],
      "metadata": {
        "colab": {
          "base_uri": "https://localhost:8080/"
        },
        "id": "mftjLEKsocpt",
        "outputId": "99ebf4d8-de9e-454a-985d-3c61ec93798a"
      },
      "execution_count": 29,
      "outputs": [
        {
          "output_type": "stream",
          "name": "stdout",
          "text": [
            "A média entre 7.562 e 875.23 é igual a 441.40\n"
          ]
        }
      ]
    },
    {
      "cell_type": "code",
      "source": [
        "# 1. print padrão com vírgulas\n",
        "soma = num1 + num2\n",
        "subtracao = num1 - num2\n",
        "multiplicacao = num1 * num2\n",
        "divisao = num1 / num2\n",
        "divisao_inteira = num1 // num2\n",
        "resto = num1 % num2\n",
        "exponenciacao = num1 ** num2\n",
        "print(\"Soma:\", soma)\n",
        "print(\"Subtração:\", subtracao)\n",
        "print(\"Multiplicação:\", multiplicacao)\n",
        "print(\"Divisão:\", divisao)\n",
        "print(\"Divisão inteira:\", divisao_inteira)\n",
        "print(\"Resto da divisão:\", resto)\n",
        "print(\"Exponenciação:\", exponenciacao)\n",
        "print(\"Média:\", media)"
      ],
      "metadata": {
        "colab": {
          "base_uri": "https://localhost:8080/"
        },
        "id": "rv5IuAH-ogHZ",
        "outputId": "7510bd24-9f70-4111-dbf5-e262da3c6c43"
      },
      "execution_count": 31,
      "outputs": [
        {
          "output_type": "stream",
          "name": "stdout",
          "text": [
            "Soma: 2.7\n",
            "Subtração: -0.30000000000000004\n",
            "Multiplicação: 1.7999999999999998\n",
            "Divisão: 0.7999999999999999\n",
            "Divisão inteira: 0.0\n",
            "Resto da divisão: 1.2\n",
            "Exponenciação: 1.3145341380123985\n",
            "Média: 441.396\n"
          ]
        }
      ]
    },
    {
      "cell_type": "code",
      "source": [
        "# 2. print com concatenação (convertendo para string)\n",
        "print(\"\\nA soma é: \" + str(soma))\n",
        "print(\"A média é: \" + str(media))"
      ],
      "metadata": {
        "colab": {
          "base_uri": "https://localhost:8080/"
        },
        "id": "Oy3KzYf4ojCq",
        "outputId": "e82eed5f-f2fb-4ff9-b907-c3ae5523a2bf"
      },
      "execution_count": 32,
      "outputs": [
        {
          "output_type": "stream",
          "name": "stdout",
          "text": [
            "\n",
            "A soma é: 2.7\n",
            "A média é: 441.396\n"
          ]
        }
      ]
    },
    {
      "cell_type": "code",
      "source": [
        "# 3. Usando .format()\n",
        "print(\"\\nA multiplicação é: {:.2f}\".format(multiplicacao))\n",
        "print(\"A exponenciação resulta em: {:.2f}\".format(exponenciacao))"
      ],
      "metadata": {
        "colab": {
          "base_uri": "https://localhost:8080/"
        },
        "id": "ra_ZEo18ola3",
        "outputId": "e299e67d-337c-4093-c4a3-d832045de502"
      },
      "execution_count": 33,
      "outputs": [
        {
          "output_type": "stream",
          "name": "stdout",
          "text": [
            "\n",
            "A multiplicação é: 1.80\n",
            "A exponenciação resulta em: 1.31\n"
          ]
        }
      ]
    },
    {
      "cell_type": "code",
      "source": [
        "# 4. f-strings com formatação\n",
        "print(f\"\\nA subtração de {num1} por {num2} é {subtracao:.2f}\")\n",
        "print(f\"A divisão com duas casas decimais: {divisao:.2f}\")\n",
        "print(f\"Média dos dois números: {media:.2f}\")"
      ],
      "metadata": {
        "colab": {
          "base_uri": "https://localhost:8080/"
        },
        "id": "Bn8ftz96on60",
        "outputId": "51329447-0392-4db0-9d72-4937e2556b9d"
      },
      "execution_count": 34,
      "outputs": [
        {
          "output_type": "stream",
          "name": "stdout",
          "text": [
            "\n",
            "A subtração de 1.2 por 1.5 é -0.30\n",
            "A divisão com duas casas decimais: 0.80\n",
            "Média dos dois números: 441.40\n"
          ]
        }
      ]
    },
    {
      "cell_type": "code",
      "source": [
        "# 5. Alinhamento de resultados\n",
        "print(\"\\n--- Formatação Alinhada ---\")\n",
        "print(f\"{'Operação':<20}{'Resultado':>10}\")\n",
        "print(f\"{'Soma':<20}{soma:>10.2f}\")\n",
        "print(f\"{'Subtração':<20}{subtracao:>10.2f}\")\n",
        "print(f\"{'Multiplicação':<20}{multiplicacao:>10.2f}\")\n",
        "print(f\"{'Divisão':<20}{divisao:>10.2f}\")\n",
        "print(f\"{'Divisão inteira':<20}{divisao_inteira:>10.0f}\")\n",
        "print(f\"{'Resto da divisão':<20}{resto:>10.2f}\")\n",
        "print(f\"{'Exponenciação':<20}{exponenciacao:>10.3f}\")\n",
        "print(f\"{'Média':<20}{media:>10.3f}\")"
      ],
      "metadata": {
        "colab": {
          "base_uri": "https://localhost:8080/"
        },
        "id": "Ir-gvHbfop-k",
        "outputId": "eaa98ed6-002b-4646-f3b4-2a213c50df9d"
      },
      "execution_count": 36,
      "outputs": [
        {
          "output_type": "stream",
          "name": "stdout",
          "text": [
            "\n",
            "--- Formatação Alinhada ---\n",
            "Operação             Resultado\n",
            "Soma                      2.70\n",
            "Subtração                -0.30\n",
            "Multiplicação             1.80\n",
            "Divisão                   0.80\n",
            "Divisão inteira              0\n",
            "Resto da divisão          1.20\n",
            "Exponenciação            1.315\n",
            "Média                  441.396\n"
          ]
        }
      ]
    },
    {
      "cell_type": "code",
      "source": [
        "# Entrada de dados\n",
        "nome = input(\"Digite seu nome: \")\n",
        "idade = int(input(\"Digite sua idade: \"))"
      ],
      "metadata": {
        "colab": {
          "base_uri": "https://localhost:8080/"
        },
        "id": "-1mcBY02o22x",
        "outputId": "e0ef6d6a-779d-4eb7-81eb-a4657e551a7e"
      },
      "execution_count": 44,
      "outputs": [
        {
          "name": "stdout",
          "output_type": "stream",
          "text": [
            "Digite seu nome: jonas \n",
            "Digite sua idade: 40\n"
          ]
        }
      ]
    },
    {
      "cell_type": "code",
      "source": [
        "# Processamento com estruturas condicionais\n",
        "print(\"\\n--- Resultado com print simples ---\")\n",
        "if idade < 12:\n",
        "    print(\"Você é uma criança.\")\n",
        "elif idade < 18:\n",
        "    print(\"Você é um adolescente.\")\n",
        "elif idade < 60:\n",
        "    print(\"Você é um adulto.\")\n",
        "else:\n",
        "    print(\"Você é um idoso.\")"
      ],
      "metadata": {
        "colab": {
          "base_uri": "https://localhost:8080/"
        },
        "id": "riVXE1-to7QX",
        "outputId": "781318c8-077e-4bf8-9491-3d7519228cf7"
      },
      "execution_count": 45,
      "outputs": [
        {
          "output_type": "stream",
          "name": "stdout",
          "text": [
            "\n",
            "--- Resultado com print simples ---\n",
            "Você é um adulto.\n"
          ]
        }
      ]
    },
    {
      "cell_type": "code",
      "source": [
        "# Usando concatenação\n",
        "print(\"\\n--- Resultado com concatenação ---\")\n",
        "if idade < 12:\n",
        "    print(\"Olá, \" + nome + \"! Você é uma criança.\")\n",
        "elif idade < 18:\n",
        "    print(\"Olá, \" + nome + \"! Você é um adolescente.\")\n",
        "elif idade < 60:\n",
        "    print(\"Olá, \" + nome + \"! Você é um adulto.\")\n",
        "else:\n",
        "    print(\"Olá, \" + nome + \"! Você é um idoso.\")"
      ],
      "metadata": {
        "colab": {
          "base_uri": "https://localhost:8080/"
        },
        "id": "jG6s7-iKo76K",
        "outputId": "c3e32e46-b91d-4991-94b5-d02a5951d4b4"
      },
      "execution_count": 46,
      "outputs": [
        {
          "output_type": "stream",
          "name": "stdout",
          "text": [
            "\n",
            "--- Resultado com concatenação ---\n",
            "Olá, jonas ! Você é um adulto.\n"
          ]
        }
      ]
    },
    {
      "cell_type": "code",
      "source": [
        "# Usando .format()\n",
        "print(\"\\n--- Resultado com .format() ---\")\n",
        "if idade < 12:\n",
        "    print(\"Olá, {}. Sua idade é {} e você é uma criança.\".format(nome, idade))\n",
        "elif idade < 18:\n",
        "    print(\"Olá, {}. Sua idade é {} e você é um adolescente.\".format(nome, idade))\n",
        "elif idade < 60:\n",
        "    print(\"Olá, {}. Sua idade é {} e você é um adulto.\".format(nome, idade))\n",
        "else:\n",
        "    print(\"Olá, {}. Sua idade é {} e você é um idoso.\".format(nome, idade))"
      ],
      "metadata": {
        "colab": {
          "base_uri": "https://localhost:8080/"
        },
        "id": "DfbtB2Qqo-CB",
        "outputId": "7d52f054-e50e-435f-eec3-ec40fe0286ea"
      },
      "execution_count": 47,
      "outputs": [
        {
          "output_type": "stream",
          "name": "stdout",
          "text": [
            "\n",
            "--- Resultado com .format() ---\n",
            "Olá, jonas . Sua idade é 40 e você é um adulto.\n"
          ]
        }
      ]
    },
    {
      "cell_type": "code",
      "source": [
        "# Usando f-strings\n",
        "print(\"\\n--- Resultado com f-strings ---\")\n",
        "if idade < 12:\n",
        "    classificacao = \"criança\"\n",
        "elif idade < 18:\n",
        "    classificacao = \"adolescente\"\n",
        "elif idade < 60:\n",
        "    classificacao = \"adulto\"\n",
        "else:\n",
        "    classificacao = \"idoso\"\n",
        "\n",
        "print(f\"{nome}, você tem {idade} anos e é classificado como {classificacao}.\")"
      ],
      "metadata": {
        "colab": {
          "base_uri": "https://localhost:8080/"
        },
        "id": "ZNAh_cZJpEI8",
        "outputId": "4db0bfba-5f2a-4130-fd64-1fab572e3410"
      },
      "execution_count": 48,
      "outputs": [
        {
          "output_type": "stream",
          "name": "stdout",
          "text": [
            "\n",
            "--- Resultado com f-strings ---\n",
            "jonas , você tem 40 anos e é classificado como adulto.\n"
          ]
        }
      ]
    },
    {
      "cell_type": "code",
      "source": [
        "# Resultado tabulado\n",
        "print(\"\\n--- Resultado com alinhamento ---\")\n",
        "print(f\"{'Nome':<10}{'Idade':<10}{'Classificação':<15}\")\n",
        "print(f\"{nome:<10}{idade:<10}{classificacao:<15}\")"
      ],
      "metadata": {
        "colab": {
          "base_uri": "https://localhost:8080/"
        },
        "id": "LdlTDmwIpGBb",
        "outputId": "75adeab1-b438-4ff9-fa08-53aa532e95f1"
      },
      "execution_count": 49,
      "outputs": [
        {
          "output_type": "stream",
          "name": "stdout",
          "text": [
            "\n",
            "--- Resultado com alinhamento ---\n",
            "Nome      Idade     Classificação  \n",
            "jonas     40        adulto         \n"
          ]
        }
      ]
    },
    {
      "cell_type": "code",
      "source": [
        "# 1. Uso básico do while (contador)\n",
        "contador = 1\n",
        "while contador <= 5:\n",
        "    print(f\"Contador atual: {contador}\")\n",
        "    contador += 1  # incremento\n",
        "print(\"\\n==== WHILE COM BREAK ====\")"
      ],
      "metadata": {
        "colab": {
          "base_uri": "https://localhost:8080/"
        },
        "id": "v5fMaEj_pby5",
        "outputId": "70215b37-0a58-444c-acda-72e886d2a99f"
      },
      "execution_count": 50,
      "outputs": [
        {
          "output_type": "stream",
          "name": "stdout",
          "text": [
            "Contador atual: 1\n",
            "Contador atual: 2\n",
            "Contador atual: 3\n",
            "Contador atual: 4\n",
            "Contador atual: 5\n",
            "\n",
            "==== WHILE COM BREAK ====\n"
          ]
        }
      ]
    },
    {
      "cell_type": "code",
      "source": [
        "# 2. while com break (interrompe quando encontra uma condição)\n",
        "x = 0\n",
        "while True:\n",
        "    x += 1\n",
        "    print(f\"x = {x}\")\n",
        "    if x == 3:\n",
        "        print(\"Parando o loop com break.\")\n",
        "        break\n",
        "\n",
        "print(\"\\n==== WHILE COM CONTINUE ====\")"
      ],
      "metadata": {
        "colab": {
          "base_uri": "https://localhost:8080/"
        },
        "id": "iBbc8lkhpi43",
        "outputId": "de1e74c3-22a1-4798-da9f-102ff4bb5ed4"
      },
      "execution_count": 53,
      "outputs": [
        {
          "output_type": "stream",
          "name": "stdout",
          "text": [
            "x = 1\n",
            "x = 2\n",
            "x = 3\n",
            "Parando o loop com break.\n",
            "\n",
            "==== WHILE COM CONTINUE ====\n"
          ]
        }
      ]
    },
    {
      "cell_type": "code",
      "source": [
        "# 3. while com continue (pula para a próxima iteração)\n",
        "i = 0\n",
        "while i < 5:\n",
        "    i += 1\n",
        "    if i == 3:\n",
        "        print(\"Pulando o número 3\")\n",
        "        continue\n",
        "    print(f\"i = {i}\")\n"
      ],
      "metadata": {
        "colab": {
          "base_uri": "https://localhost:8080/"
        },
        "id": "cd_l4Y9hpoEo",
        "outputId": "fbd085e2-53f5-4750-a46a-5afd71229026"
      },
      "execution_count": 54,
      "outputs": [
        {
          "output_type": "stream",
          "name": "stdout",
          "text": [
            "i = 1\n",
            "i = 2\n",
            "Pulando o número 3\n",
            "i = 4\n",
            "i = 5\n"
          ]
        }
      ]
    },
    {
      "cell_type": "code",
      "source": [
        "# 4. for com range()\n",
        "for i in range(5):\n",
        "    print(f\"i = {i}\")  # vai de 0 até 4\n",
        "\n",
        "print(\"\\n--- range com início e fim ---\")\n",
        "for i in range(2, 6):  # de 2 até 5\n",
        "    print(f\"i = {i}\")\n",
        "\n",
        "print(\"\\n--- range com passo ---\")\n",
        "for i in range(0, 10, 2):  # de 0 a 8, pulando de 2 em 2\n",
        "    print(f\"i = {i}\")\n",
        "\n",
        "print(\"\\n--- contagem regressiva ---\")\n",
        "for i in range(5, 0, -2):  # de 5 até 1\n",
        "    print(f\"i = {i}\")"
      ],
      "metadata": {
        "colab": {
          "base_uri": "https://localhost:8080/"
        },
        "id": "8IHG_AjDpsaI",
        "outputId": "c09d5571-c5d1-4ace-a3db-6b3f92935c64"
      },
      "execution_count": 56,
      "outputs": [
        {
          "output_type": "stream",
          "name": "stdout",
          "text": [
            "i = 0\n",
            "i = 1\n",
            "i = 2\n",
            "i = 3\n",
            "i = 4\n",
            "\n",
            "--- range com início e fim ---\n",
            "i = 2\n",
            "i = 3\n",
            "i = 4\n",
            "i = 5\n",
            "\n",
            "--- range com passo ---\n",
            "i = 0\n",
            "i = 2\n",
            "i = 4\n",
            "i = 6\n",
            "i = 8\n",
            "\n",
            "--- contagem regressiva ---\n",
            "i = 5\n",
            "i = 3\n",
            "i = 1\n"
          ]
        }
      ]
    },
    {
      "cell_type": "code",
      "source": [
        "# 5. Percorrendo listas com for\n",
        "nomes = [\"Ana\", \"Bruno\", \"Carlos\"]\n",
        "for nome in nomes:\n",
        "    print(f\"Olá, {nome}!\")\n",
        "\n",
        "print(\"\\n==== FOR COM ENUMERATE ====\")\n",
        "\n",
        "# 6. Usando enumerate para pegar índice e valor\n",
        "for indice, nome in enumerate(nomes):\n",
        "    print(f\"Índice {indice}: {nome}\")"
      ],
      "metadata": {
        "colab": {
          "base_uri": "https://localhost:8080/"
        },
        "id": "Xgiiveq6ptn9",
        "outputId": "1e2ee517-d807-41a7-fd0c-681f1fe26d9b"
      },
      "execution_count": 57,
      "outputs": [
        {
          "output_type": "stream",
          "name": "stdout",
          "text": [
            "Olá, Ana!\n",
            "Olá, Bruno!\n",
            "Olá, Carlos!\n",
            "\n",
            "==== FOR COM ENUMERATE ====\n",
            "Índice 0: Ana\n",
            "Índice 1: Bruno\n",
            "Índice 2: Carlos\n"
          ]
        }
      ]
    },
    {
      "cell_type": "code",
      "source": [
        "# 7. Iterando sobre caracteres de uma string\n",
        "texto = \"Python\"\n",
        "for letra in texto:\n",
        "    print(letra)\n",
        "\n",
        "# ----------------------------\n"
      ],
      "metadata": {
        "colab": {
          "base_uri": "https://localhost:8080/"
        },
        "id": "WyFiJcNqp2U8",
        "outputId": "b58221d1-3e6a-47e0-8dd5-79480383b706"
      },
      "execution_count": 60,
      "outputs": [
        {
          "output_type": "stream",
          "name": "stdout",
          "text": [
            "0 P\n",
            "1 y\n",
            "2 t\n",
            "3 h\n",
            "4 o\n",
            "5 n\n"
          ]
        }
      ]
    },
    {
      "cell_type": "code",
      "source": [
        "# 8. Combinando for e if\n",
        "numeros = [1, 4, 7, 10, 13]\n",
        "for n in numeros:\n",
        "    if n % 2 == 0:\n",
        "        print(f\"{n} é par\")\n",
        "    else:\n",
        "        print(f\"{n} é ímpar\")"
      ],
      "metadata": {
        "colab": {
          "base_uri": "https://localhost:8080/"
        },
        "id": "JDCizLMzp78H",
        "outputId": "39d84dc2-0d0d-438f-ab4a-ccab0f232a48"
      },
      "execution_count": 61,
      "outputs": [
        {
          "output_type": "stream",
          "name": "stdout",
          "text": [
            "1 é ímpar\n",
            "4 é par\n",
            "7 é ímpar\n",
            "10 é par\n",
            "13 é ímpar\n"
          ]
        }
      ]
    },
    {
      "cell_type": "code",
      "source": [
        "# 9. List comprehension (forma compacta de escrever loops)de exemplos de for dentro de for\n",
        "\n",
        "quadrados = [x**2 for x in range(5, 10)]\n",
        "print(\"Quadrados de 1 a 5:\", quadrados)\n",
        "\n",
        "pares = [x for x in range(40,50) if x % 2 == 0]\n",
        "print(\"Números pares até 9:\", pares)"
      ],
      "metadata": {
        "colab": {
          "base_uri": "https://localhost:8080/"
        },
        "id": "ueK9Q9Q3p8Zp",
        "outputId": "ee8eed22-22bb-4b2d-a5cc-39b204359224"
      },
      "execution_count": 68,
      "outputs": [
        {
          "output_type": "stream",
          "name": "stdout",
          "text": [
            "Quadrados de 1 a 5: [25, 36, 49, 64, 81]\n",
            "Números pares até 9: [40, 42, 44, 46, 48]\n"
          ]
        }
      ]
    },
    {
      "cell_type": "code",
      "source": [],
      "metadata": {
        "id": "N2ierw7oHFcX"
      },
      "execution_count": null,
      "outputs": []
    },
    {
      "cell_type": "code",
      "source": [
        "for i in range(1, 6):  # de 1 a 5\n",
        "    print(f\"\\nTabuada do {i}\")\n",
        "    for j in range(1, 11):  # de 1 a 10\n",
        "        print(f\"{i} x {j} = {i * j}\")\n"
      ],
      "metadata": {
        "id": "qDZrb7U_qXwE"
      },
      "execution_count": null,
      "outputs": []
    },
    {
      "cell_type": "code",
      "source": [
        "matriz = [\n",
        "    [1, 2, 3],\n",
        "    [4, 5, 6],\n",
        "    [7, 8, 9]\n",
        "]\n",
        "\n",
        "for linha in matriz:\n",
        "    for elemento in linha:\n",
        "        print(elemento, end=\" \")\n",
        "    print()  # quebra de linha ao fim da linha"
      ],
      "metadata": {
        "id": "ZyTZhrX0qkG4"
      },
      "execution_count": null,
      "outputs": []
    },
    {
      "cell_type": "code",
      "source": [
        "cores = [\"vermelho\", \"azul\"]\n",
        "tamanhos = [\"P\", \"M\", \"G\"]\n",
        "\n",
        "for cor in cores:\n",
        "    for tamanho in tamanhos:\n",
        "        print(f\"Produto - Cor: {cor}, Tamanho: {tamanho}\")"
      ],
      "metadata": {
        "id": "fcAKfV5gqnD-"
      },
      "execution_count": null,
      "outputs": []
    },
    {
      "cell_type": "code",
      "source": [
        "n = 3\n",
        "m = 4\n",
        "matriz = []\n",
        "\n",
        "for i in range(n):  # linhas\n",
        "    linha = []\n",
        "    for j in range(m):  # colunas\n",
        "        linha.append(i * j)\n",
        "    matriz.append(linha)\n",
        "\n",
        "print(matriz)"
      ],
      "metadata": {
        "colab": {
          "base_uri": "https://localhost:8080/"
        },
        "id": "r1fIlJUQqqxw",
        "outputId": "23da4269-3749-4f60-8ebc-3c11335dcd78"
      },
      "execution_count": 1,
      "outputs": [
        {
          "output_type": "stream",
          "name": "stdout",
          "text": [
            "[[0, 0, 0, 0], [0, 1, 2, 3], [0, 2, 4, 6]]\n"
          ]
        }
      ]
    },
    {
      "cell_type": "code",
      "source": [
        "# Exemplo: Menu com match/case\n",
        "\n",
        "opcao = input(\"Escolha uma opção (1, 2 ou 3): \")\n",
        "\n",
        "match opcao:\n",
        "    case \"1\":\n",
        "        print(\"Você escolheu a opção 1 - Ver saldo\")\n",
        "    case \"2\":\n",
        "        print(\"Você escolheu a opção 2 - Fazer depósito\")\n",
        "    case \"3\":\n",
        "        print(\"Você escolheu a opção 3 - Sair\")\n",
        "    case _:\n",
        "        print(\"Opção inválida!\")"
      ],
      "metadata": {
        "id": "Cvo4JVKKrOwB"
      },
      "execution_count": null,
      "outputs": []
    },
    {
      "cell_type": "code",
      "source": [
        "# Definindo as ações\n",
        "def ver_saldo():\n",
        "    print(\"Saldo: R$ 1.000,00\")\n",
        "\n",
        "def depositar():\n",
        "    print(\"Depósito realizado com sucesso.\")\n",
        "\n",
        "def sair():\n",
        "    print(\"Sessão encerrada.\")\n",
        "\n",
        "def opcao_invalida():\n",
        "    print(\"Opção inválida!\")\n",
        "\n",
        "# Dicionário de ações\n",
        "menu = {\n",
        "    \"1\": ver_saldo,\n",
        "    \"2\": depositar,\n",
        "    \"3\": sair\n",
        "}\n",
        "\n",
        "# Entrada do usuário\n",
        "escolha = input(\"Escolha uma opção (1 - Saldo, 2 - Depósito, 3 - Sair): \")\n",
        "\n",
        "# Executa a função correspondente, ou a função padrão se não existir\n",
        "menu.get(escolha, opcao_invalida)()\n"
      ],
      "metadata": {
        "id": "v6CE-M8BrW7R"
      },
      "execution_count": null,
      "outputs": []
    }
  ]
}